{
 "cells": [
  {
   "cell_type": "code",
   "execution_count": 1,
   "metadata": {},
   "outputs": [],
   "source": [
    "## Importing Packages"
   ]
  },
  {
   "cell_type": "code",
   "execution_count": 2,
   "metadata": {},
   "outputs": [],
   "source": [
    "import pandas as pd \n",
    "import numpy as np \n",
    "import seaborn as sns \n",
    "import matplotlib.pyplot as plt \n",
    "import matplotlib.gridspec as gridspec\n",
    "import scipy.stats as stats\n",
    "import os\n",
    "\n",
    "from sklearn.linear_model import LogisticRegression\n",
    "from sklearn.tree import DecisionTreeClassifier\n",
    "from sklearn.ensemble import GradientBoostingClassifier ,RandomForestClassifier ,GradientBoostingClassifier\n",
    "from xgboost import XGBClassifier \n",
    "from sklearn.model_selection import GridSearchCV, RandomizedSearchCV\n",
    "from sklearn.metrics import roc_auc_score ,mean_squared_error,accuracy_score,classification_report,roc_curve,confusion_matrix\n",
    "import warnings\n",
    "warnings.filterwarnings('ignore')\n",
    "from scipy.stats.mstats import winsorize\n",
    "from sklearn.feature_selection import RFE\n",
    "from sklearn.model_selection import train_test_split"
   ]
  },
  {
   "cell_type": "code",
   "execution_count": 3,
   "metadata": {},
   "outputs": [
    {
     "data": {
      "text/plain": [
       "'C:\\\\Users\\\\SUNITA'"
      ]
     },
     "execution_count": 3,
     "metadata": {},
     "output_type": "execute_result"
    }
   ],
   "source": [
    "os.getcwd()"
   ]
  },
  {
   "cell_type": "code",
   "execution_count": 4,
   "metadata": {},
   "outputs": [],
   "source": [
    "## Change directory\n",
    "os.chdir(\"F:\\\\STOCKMRKT_PROJ\")"
   ]
  },
  {
   "cell_type": "code",
   "execution_count": 5,
   "metadata": {},
   "outputs": [],
   "source": [
    "## Read the CSV file from Pandas"
   ]
  },
  {
   "cell_type": "code",
   "execution_count": 6,
   "metadata": {},
   "outputs": [],
   "source": [
    "stock_df=pd.read_csv(\"GOOG_StockData.csv\",na_values=[\"\",\" \",\"N/A\",\"NA\"])"
   ]
  },
  {
   "cell_type": "code",
   "execution_count": 7,
   "metadata": {},
   "outputs": [],
   "source": [
    "# Make a copy of the original sourcefile\n",
    "stock_df1 = stock_df.copy()"
   ]
  },
  {
   "cell_type": "code",
   "execution_count": 8,
   "metadata": {},
   "outputs": [],
   "source": [
    "## Data Decription and Exploratory Visualisation"
   ]
  },
  {
   "cell_type": "code",
   "execution_count": 9,
   "metadata": {},
   "outputs": [
    {
     "data": {
      "text/plain": [
       "Index(['Date', 'Open', 'High', 'Low', 'Close', 'Adj Close', 'Volume'], dtype='object')"
      ]
     },
     "execution_count": 9,
     "metadata": {},
     "output_type": "execute_result"
    }
   ],
   "source": [
    "# Dataset columns\n",
    "stock_df1.columns"
   ]
  },
  {
   "cell_type": "code",
   "execution_count": 10,
   "metadata": {},
   "outputs": [],
   "source": [
    "stock_1=stock_df1.drop(['Date','Adj Close'],axis=1)"
   ]
  },
  {
   "cell_type": "code",
   "execution_count": 11,
   "metadata": {},
   "outputs": [
    {
     "data": {
      "text/html": [
       "<div>\n",
       "<style scoped>\n",
       "    .dataframe tbody tr th:only-of-type {\n",
       "        vertical-align: middle;\n",
       "    }\n",
       "\n",
       "    .dataframe tbody tr th {\n",
       "        vertical-align: top;\n",
       "    }\n",
       "\n",
       "    .dataframe thead th {\n",
       "        text-align: right;\n",
       "    }\n",
       "</style>\n",
       "<table border=\"1\" class=\"dataframe\">\n",
       "  <thead>\n",
       "    <tr style=\"text-align: right;\">\n",
       "      <th></th>\n",
       "      <th>Open</th>\n",
       "      <th>High</th>\n",
       "      <th>Low</th>\n",
       "      <th>Close</th>\n",
       "      <th>Volume</th>\n",
       "    </tr>\n",
       "  </thead>\n",
       "  <tbody>\n",
       "    <tr>\n",
       "      <th>0</th>\n",
       "      <td>597.280029</td>\n",
       "      <td>605.000000</td>\n",
       "      <td>590.219971</td>\n",
       "      <td>594.969971</td>\n",
       "      <td>2309500</td>\n",
       "    </tr>\n",
       "    <tr>\n",
       "      <th>1</th>\n",
       "      <td>603.280029</td>\n",
       "      <td>608.760010</td>\n",
       "      <td>600.729980</td>\n",
       "      <td>608.419983</td>\n",
       "      <td>2413400</td>\n",
       "    </tr>\n",
       "    <tr>\n",
       "      <th>2</th>\n",
       "      <td>608.369995</td>\n",
       "      <td>612.090027</td>\n",
       "      <td>599.849976</td>\n",
       "      <td>611.289978</td>\n",
       "      <td>1867600</td>\n",
       "    </tr>\n",
       "    <tr>\n",
       "      <th>3</th>\n",
       "      <td>607.200012</td>\n",
       "      <td>627.340027</td>\n",
       "      <td>603.130005</td>\n",
       "      <td>626.909973</td>\n",
       "      <td>2684800</td>\n",
       "    </tr>\n",
       "    <tr>\n",
       "      <th>4</th>\n",
       "      <td>632.000000</td>\n",
       "      <td>643.010010</td>\n",
       "      <td>627.000000</td>\n",
       "      <td>641.469971</td>\n",
       "      <td>1803600</td>\n",
       "    </tr>\n",
       "  </tbody>\n",
       "</table>\n",
       "</div>"
      ],
      "text/plain": [
       "         Open        High         Low       Close   Volume\n",
       "0  597.280029  605.000000  590.219971  594.969971  2309500\n",
       "1  603.280029  608.760010  600.729980  608.419983  2413400\n",
       "2  608.369995  612.090027  599.849976  611.289978  1867600\n",
       "3  607.200012  627.340027  603.130005  626.909973  2684800\n",
       "4  632.000000  643.010010  627.000000  641.469971  1803600"
      ]
     },
     "execution_count": 11,
     "metadata": {},
     "output_type": "execute_result"
    }
   ],
   "source": [
    "# Dataset header\n",
    "stock_1.head()"
   ]
  },
  {
   "cell_type": "code",
   "execution_count": 12,
   "metadata": {},
   "outputs": [],
   "source": [
    "rows = stock_df1.values.tolist()\n",
    "X1=[]\n",
    "for row in rows:\n",
    "    X1.append(int(''.join(row[0].split('/'))))"
   ]
  },
  {
   "cell_type": "code",
   "execution_count": 13,
   "metadata": {},
   "outputs": [],
   "source": [
    "s_1=pd.DataFrame({'Date':X1})"
   ]
  },
  {
   "cell_type": "code",
   "execution_count": 14,
   "metadata": {},
   "outputs": [
    {
     "data": {
      "text/html": [
       "<div>\n",
       "<style scoped>\n",
       "    .dataframe tbody tr th:only-of-type {\n",
       "        vertical-align: middle;\n",
       "    }\n",
       "\n",
       "    .dataframe tbody tr th {\n",
       "        vertical-align: top;\n",
       "    }\n",
       "\n",
       "    .dataframe thead th {\n",
       "        text-align: right;\n",
       "    }\n",
       "</style>\n",
       "<table border=\"1\" class=\"dataframe\">\n",
       "  <thead>\n",
       "    <tr style=\"text-align: right;\">\n",
       "      <th></th>\n",
       "      <th>Date</th>\n",
       "    </tr>\n",
       "  </thead>\n",
       "  <tbody>\n",
       "    <tr>\n",
       "      <th>0</th>\n",
       "      <td>9292015</td>\n",
       "    </tr>\n",
       "    <tr>\n",
       "      <th>1</th>\n",
       "      <td>9302015</td>\n",
       "    </tr>\n",
       "    <tr>\n",
       "      <th>2</th>\n",
       "      <td>1012015</td>\n",
       "    </tr>\n",
       "    <tr>\n",
       "      <th>3</th>\n",
       "      <td>1022015</td>\n",
       "    </tr>\n",
       "    <tr>\n",
       "      <th>4</th>\n",
       "      <td>1052015</td>\n",
       "    </tr>\n",
       "    <tr>\n",
       "      <th>...</th>\n",
       "      <td>...</td>\n",
       "    </tr>\n",
       "    <tr>\n",
       "      <th>1254</th>\n",
       "      <td>9222020</td>\n",
       "    </tr>\n",
       "    <tr>\n",
       "      <th>1255</th>\n",
       "      <td>9232020</td>\n",
       "    </tr>\n",
       "    <tr>\n",
       "      <th>1256</th>\n",
       "      <td>9242020</td>\n",
       "    </tr>\n",
       "    <tr>\n",
       "      <th>1257</th>\n",
       "      <td>9252020</td>\n",
       "    </tr>\n",
       "    <tr>\n",
       "      <th>1258</th>\n",
       "      <td>9282020</td>\n",
       "    </tr>\n",
       "  </tbody>\n",
       "</table>\n",
       "<p>1259 rows × 1 columns</p>\n",
       "</div>"
      ],
      "text/plain": [
       "         Date\n",
       "0     9292015\n",
       "1     9302015\n",
       "2     1012015\n",
       "3     1022015\n",
       "4     1052015\n",
       "...       ...\n",
       "1254  9222020\n",
       "1255  9232020\n",
       "1256  9242020\n",
       "1257  9252020\n",
       "1258  9282020\n",
       "\n",
       "[1259 rows x 1 columns]"
      ]
     },
     "execution_count": 14,
     "metadata": {},
     "output_type": "execute_result"
    }
   ],
   "source": [
    "s_1"
   ]
  },
  {
   "cell_type": "code",
   "execution_count": 15,
   "metadata": {},
   "outputs": [],
   "source": [
    "stockdf=s_1.join(stock_1,how='outer')"
   ]
  },
  {
   "cell_type": "code",
   "execution_count": 16,
   "metadata": {},
   "outputs": [
    {
     "data": {
      "text/html": [
       "<div>\n",
       "<style scoped>\n",
       "    .dataframe tbody tr th:only-of-type {\n",
       "        vertical-align: middle;\n",
       "    }\n",
       "\n",
       "    .dataframe tbody tr th {\n",
       "        vertical-align: top;\n",
       "    }\n",
       "\n",
       "    .dataframe thead th {\n",
       "        text-align: right;\n",
       "    }\n",
       "</style>\n",
       "<table border=\"1\" class=\"dataframe\">\n",
       "  <thead>\n",
       "    <tr style=\"text-align: right;\">\n",
       "      <th></th>\n",
       "      <th>Date</th>\n",
       "      <th>Open</th>\n",
       "      <th>High</th>\n",
       "      <th>Low</th>\n",
       "      <th>Close</th>\n",
       "      <th>Volume</th>\n",
       "    </tr>\n",
       "  </thead>\n",
       "  <tbody>\n",
       "    <tr>\n",
       "      <th>0</th>\n",
       "      <td>9292015</td>\n",
       "      <td>597.280029</td>\n",
       "      <td>605.000000</td>\n",
       "      <td>590.219971</td>\n",
       "      <td>594.969971</td>\n",
       "      <td>2309500</td>\n",
       "    </tr>\n",
       "    <tr>\n",
       "      <th>1</th>\n",
       "      <td>9302015</td>\n",
       "      <td>603.280029</td>\n",
       "      <td>608.760010</td>\n",
       "      <td>600.729980</td>\n",
       "      <td>608.419983</td>\n",
       "      <td>2413400</td>\n",
       "    </tr>\n",
       "    <tr>\n",
       "      <th>2</th>\n",
       "      <td>1012015</td>\n",
       "      <td>608.369995</td>\n",
       "      <td>612.090027</td>\n",
       "      <td>599.849976</td>\n",
       "      <td>611.289978</td>\n",
       "      <td>1867600</td>\n",
       "    </tr>\n",
       "    <tr>\n",
       "      <th>3</th>\n",
       "      <td>1022015</td>\n",
       "      <td>607.200012</td>\n",
       "      <td>627.340027</td>\n",
       "      <td>603.130005</td>\n",
       "      <td>626.909973</td>\n",
       "      <td>2684800</td>\n",
       "    </tr>\n",
       "    <tr>\n",
       "      <th>4</th>\n",
       "      <td>1052015</td>\n",
       "      <td>632.000000</td>\n",
       "      <td>643.010010</td>\n",
       "      <td>627.000000</td>\n",
       "      <td>641.469971</td>\n",
       "      <td>1803600</td>\n",
       "    </tr>\n",
       "  </tbody>\n",
       "</table>\n",
       "</div>"
      ],
      "text/plain": [
       "      Date        Open        High         Low       Close   Volume\n",
       "0  9292015  597.280029  605.000000  590.219971  594.969971  2309500\n",
       "1  9302015  603.280029  608.760010  600.729980  608.419983  2413400\n",
       "2  1012015  608.369995  612.090027  599.849976  611.289978  1867600\n",
       "3  1022015  607.200012  627.340027  603.130005  626.909973  2684800\n",
       "4  1052015  632.000000  643.010010  627.000000  641.469971  1803600"
      ]
     },
     "execution_count": 16,
     "metadata": {},
     "output_type": "execute_result"
    }
   ],
   "source": [
    "stockdf.head()"
   ]
  },
  {
   "cell_type": "code",
   "execution_count": 17,
   "metadata": {},
   "outputs": [
    {
     "data": {
      "image/png": "[encoded data removed]",
      "text/plain": [
       "<Figure size 1440x1440 with 6 Axes>"
      ]
     },
     "metadata": {
      "needs_background": "light"
     },
     "output_type": "display_data"
    }
   ],
   "source": [
    "stockdf.hist(figsize=(20,20))\n",
    "plt.show()"
   ]
  },
  {
   "cell_type": "code",
   "execution_count": 18,
   "metadata": {},
   "outputs": [],
   "source": [
    "## plot the target variable to understand how it’s shaping up in our data:"
   ]
  },
  {
   "cell_type": "code",
   "execution_count": 19,
   "metadata": {},
   "outputs": [],
   "source": [
    "## LINEAR REGRESSION"
   ]
  },
  {
   "cell_type": "code",
   "execution_count": 20,
   "metadata": {},
   "outputs": [],
   "source": [
    "#y=b1x1+b2x2+b3x3+...bnxn\n",
    "#b1,b2,b3..bn Beta Coefficients .Repr weights\n",
    "#y=Dependent Variable\n",
    "#x=Independent Variable"
   ]
  },
  {
   "cell_type": "code",
   "execution_count": 21,
   "metadata": {},
   "outputs": [],
   "source": [
    "##The profit or loss calculation is usually determined by the closing price of a stock for the day, hence we will consider the closing price as the target variable. "
   ]
  },
  {
   "cell_type": "code",
   "execution_count": 22,
   "metadata": {},
   "outputs": [],
   "source": [
    "train=stockdf[:987]"
   ]
  },
  {
   "cell_type": "code",
   "execution_count": 23,
   "metadata": {},
   "outputs": [],
   "source": [
    "valid=stockdf[987:]"
   ]
  },
  {
   "cell_type": "code",
   "execution_count": 24,
   "metadata": {},
   "outputs": [],
   "source": [
    "X_train=train.drop('Close',axis=1)"
   ]
  },
  {
   "cell_type": "code",
   "execution_count": 25,
   "metadata": {},
   "outputs": [],
   "source": [
    "y_train=train['Close']"
   ]
  },
  {
   "cell_type": "code",
   "execution_count": 26,
   "metadata": {},
   "outputs": [],
   "source": [
    "X_valid=valid.drop('Close',axis=1)"
   ]
  },
  {
   "cell_type": "code",
   "execution_count": 27,
   "metadata": {},
   "outputs": [],
   "source": [
    "y_valid=valid['Close']"
   ]
  },
  {
   "cell_type": "code",
   "execution_count": 28,
   "metadata": {},
   "outputs": [],
   "source": [
    "## Implment linear Regression"
   ]
  },
  {
   "cell_type": "code",
   "execution_count": 29,
   "metadata": {},
   "outputs": [],
   "source": [
    "from sklearn.linear_model import LinearRegression"
   ]
  },
  {
   "cell_type": "code",
   "execution_count": 30,
   "metadata": {},
   "outputs": [],
   "source": [
    "model=LinearRegression()"
   ]
  },
  {
   "cell_type": "code",
   "execution_count": 31,
   "metadata": {},
   "outputs": [
    {
     "data": {
      "text/plain": [
       "LinearRegression(copy_X=True, fit_intercept=True, n_jobs=None, normalize=False)"
      ]
     },
     "execution_count": 31,
     "metadata": {},
     "output_type": "execute_result"
    }
   ],
   "source": [
    "model.fit(X_train,y_train)"
   ]
  },
  {
   "cell_type": "code",
   "execution_count": 32,
   "metadata": {},
   "outputs": [
    {
     "data": {
      "text/plain": [
       "10.324888678680015"
      ]
     },
     "execution_count": 32,
     "metadata": {},
     "output_type": "execute_result"
    }
   ],
   "source": [
    "#make predictions and find the rmse\n",
    "preds = model.predict(X_valid)\n",
    "rms=np.sqrt(np.mean(np.power((np.array(y_valid)-np.array(preds)),2)))\n",
    "rms"
   ]
  },
  {
   "cell_type": "code",
   "execution_count": 33,
   "metadata": {},
   "outputs": [
    {
     "data": {
      "text/plain": [
       "[<matplotlib.lines.Line2D at 0x1db54c18b48>,\n",
       " <matplotlib.lines.Line2D at 0x1db54c18c88>]"
      ]
     },
     "execution_count": 33,
     "metadata": {},
     "output_type": "execute_result"
    },
    {
     "data": {
      "image/png": "[encoded data removed]",
      "text/plain": [
       "<Figure size 432x288 with 1 Axes>"
      ]
     },
     "metadata": {
      "needs_background": "light"
     },
     "output_type": "display_data"
    }
   ],
   "source": [
    "#plot\n",
    "valid['Predictions'] = 0\n",
    "valid['Predictions'] = preds\n",
    "\n",
    "valid.index = stockdf[987:].index\n",
    "train.index = stockdf[:987].index\n",
    "\n",
    "plt.plot(train['Close'])\n",
    "plt.plot(valid[['Close', 'Predictions']])"
   ]
  },
  {
   "cell_type": "code",
   "execution_count": 34,
   "metadata": {},
   "outputs": [],
   "source": [
    "## Inference:Stock Price increases steadily with time."
   ]
  },
  {
   "cell_type": "code",
   "execution_count": null,
   "metadata": {},
   "outputs": [],
   "source": []
  },
  {
   "cell_type": "code",
   "execution_count": 35,
   "metadata": {},
   "outputs": [
    {
     "name": "stdout",
     "output_type": "stream",
     "text": [
      "Requirement already satisfied: xgboost in c:\\users\\sunita\\anoconda-py\\lib\\site-packages (1.2.0)\n",
      "Requirement already satisfied: numpy in c:\\users\\sunita\\anoconda-py\\lib\\site-packages (from xgboost) (1.18.1)\n",
      "Requirement already satisfied: scipy in c:\\users\\sunita\\anoconda-py\\lib\\site-packages (from xgboost) (1.4.1)\n"
     ]
    }
   ],
   "source": [
    "!pip install xgboost"
   ]
  },
  {
   "cell_type": "code",
   "execution_count": 36,
   "metadata": {},
   "outputs": [],
   "source": [
    "from sklearn.linear_model import LinearRegression \n",
    "from sklearn.svm import SVR\n",
    "from sklearn.ensemble import RandomForestRegressor\n",
    "from sklearn.ensemble import GradientBoostingRegressor\n",
    "from sklearn.tree import DecisionTreeRegressor\n",
    "import xgboost as XG\n",
    "from xgboost import XGBRegressor\n",
    "\n",
    "from sklearn.model_selection import GridSearchCV\n",
    "from sklearn.model_selection import RandomizedSearchCV\n",
    "from sklearn.model_selection import KFold\n",
    "from sklearn.model_selection import cross_val_score\n",
    "\n",
    "# Common sklearn Model Helpers\n",
    "#from sklearn import feature_selection\n",
    "from sklearn import model_selection\n",
    "from sklearn import metrics"
   ]
  },
  {
   "cell_type": "code",
   "execution_count": 37,
   "metadata": {},
   "outputs": [],
   "source": [
    "# selection of algorithms to consider and set performance measure\n",
    "models = []\n",
    "models.append(('Linear Regression', LinearRegression()))\n",
    "models.append(('SVM',SVR()))\n",
    "models.append(('Random Forest', RandomForestRegressor(n_estimators=100)))\n",
    "models.append(('Decision Tree Regressor',\n",
    "               DecisionTreeRegressor()))\n",
    "models.append(('xgboost',\n",
    "               XGBRegressor()))"
   ]
  },
  {
   "cell_type": "code",
   "execution_count": 38,
   "metadata": {},
   "outputs": [
    {
     "data": {
      "text/html": [
       "<div>\n",
       "<style scoped>\n",
       "    .dataframe tbody tr th:only-of-type {\n",
       "        vertical-align: middle;\n",
       "    }\n",
       "\n",
       "    .dataframe tbody tr th {\n",
       "        vertical-align: top;\n",
       "    }\n",
       "\n",
       "    .dataframe thead th {\n",
       "        text-align: right;\n",
       "    }\n",
       "</style>\n",
       "<table border=\"1\" class=\"dataframe\">\n",
       "  <thead>\n",
       "    <tr style=\"text-align: right;\">\n",
       "      <th></th>\n",
       "      <th>Algorithm</th>\n",
       "      <th>Score Mean</th>\n",
       "      <th>Score STD</th>\n",
       "    </tr>\n",
       "  </thead>\n",
       "  <tbody>\n",
       "    <tr>\n",
       "      <th>0</th>\n",
       "      <td>Linear Regression</td>\n",
       "      <td>99.12</td>\n",
       "      <td>0.39</td>\n",
       "    </tr>\n",
       "    <tr>\n",
       "      <th>2</th>\n",
       "      <td>Random Forest</td>\n",
       "      <td>71.52</td>\n",
       "      <td>29.96</td>\n",
       "    </tr>\n",
       "    <tr>\n",
       "      <th>4</th>\n",
       "      <td>xgboost</td>\n",
       "      <td>67.11</td>\n",
       "      <td>33.40</td>\n",
       "    </tr>\n",
       "    <tr>\n",
       "      <th>3</th>\n",
       "      <td>Decision Tree Regressor</td>\n",
       "      <td>57.87</td>\n",
       "      <td>38.65</td>\n",
       "    </tr>\n",
       "    <tr>\n",
       "      <th>1</th>\n",
       "      <td>SVM</td>\n",
       "      <td>-4098.83</td>\n",
       "      <td>3719.74</td>\n",
       "    </tr>\n",
       "  </tbody>\n",
       "</table>\n",
       "</div>"
      ],
      "text/plain": [
       "                 Algorithm  Score Mean  Score STD\n",
       "0        Linear Regression       99.12       0.39\n",
       "2            Random Forest       71.52      29.96\n",
       "4                  xgboost       67.11      33.40\n",
       "3  Decision Tree Regressor       57.87      38.65\n",
       "1                      SVM    -4098.83    3719.74"
      ]
     },
     "execution_count": 38,
     "metadata": {},
     "output_type": "execute_result"
    }
   ],
   "source": [
    "acc_results = []\n",
    "names = []\n",
    "# set table to table to populate with performance results\n",
    "col = ['Algorithm','Score Mean', 'Score STD']\n",
    "df_results = pd.DataFrame(columns=col)\n",
    "i = 0\n",
    "# evaluate each model using cross-validation\n",
    "for name, model in models:\n",
    "    kfold = model_selection.KFold(\n",
    "        n_splits=5, random_state=7)  # 10-fold cross-validation\n",
    "\n",
    "    cv_score_results = model_selection.cross_val_score(  # accuracy scoring\n",
    "        model, X_train, y_train, cv=kfold)\n",
    "\n",
    "    acc_results.append(cv_score_results)\n",
    "    names.append(name)\n",
    "    df_results.loc[i] = [name,\n",
    "                         round(cv_score_results.mean()*100, 2),\n",
    "                         round(cv_score_results.std()*100, 2)\n",
    "                         ]\n",
    "    i += 1\n",
    "df_results.sort_values(by=['Score Mean'], ascending=False)"
   ]
  },
  {
   "cell_type": "code",
   "execution_count": 39,
   "metadata": {},
   "outputs": [],
   "source": [
    "# Random Forest Regressor\n",
    "\n",
    "rg_rf = RandomForestRegressor(n_estimators=100)\n",
    "rg_rf.fit(X_train,y_train)\n",
    "y_pred_rf = rg_rf.predict(X_valid)\n"
   ]
  },
  {
   "cell_type": "code",
   "execution_count": 40,
   "metadata": {},
   "outputs": [
    {
     "name": "stdout",
     "output_type": "stream",
     "text": [
      "Accuracy of Random Forest Model: -0.34861997312588966\n"
     ]
    }
   ],
   "source": [
    "print(\"Accuracy of Random Forest Model:\",rg_rf.score(X_valid,y_valid))"
   ]
  },
  {
   "cell_type": "code",
   "execution_count": 41,
   "metadata": {},
   "outputs": [
    {
     "data": {
      "text/plain": [
       "array([1188.05639155, 1173.22678479, 1178.53728036, 1199.09229858,\n",
       "       1206.05540891, 1203.6354041 , 1205.50018193, 1209.89339589,\n",
       "       1231.2407972 , 1235.26029164, 1231.97008908, 1227.86720226,\n",
       "       1224.38590594, 1237.42069208, 1234.1714856 , 1228.98689951,\n",
       "       1227.70138415, 1228.56339114, 1238.4478978 , 1231.95559074,\n",
       "       1221.34399787, 1214.1824048 , 1184.07189324, 1174.27508075,\n",
       "       1198.94939452, 1211.83930533, 1195.35730476, 1203.7525904 ,\n",
       "       1208.4155872 , 1225.53440809, 1220.15430048, 1236.23999153,\n",
       "       1247.3038037 , 1259.32358276, 1253.72338621, 1252.76588994,\n",
       "       1252.65359013, 1252.74858649, 1259.47608763, 1266.16377806,\n",
       "       1279.4620752 , 1275.52478519, 1265.21188108, 1264.33007808,\n",
       "       1265.02402113, 1275.11749396, 1275.11749396, 1275.02268926,\n",
       "       1275.27218632, 1275.23229499, 1275.75588258, 1276.89888185,\n",
       "       1275.19478152, 1277.88068607, 1277.7654871 , 1277.72268803,\n",
       "       1277.76118901, 1277.72268803, 1275.75588258, 1277.72268803,\n",
       "       1275.75588258, 1276.89888185, 1275.75588258, 1275.19478152,\n",
       "       1275.11749396, 1275.02268926, 1275.11749396, 1275.21029303,\n",
       "       1275.11749396, 1275.11749396, 1276.89888185, 1275.19478152,\n",
       "       1277.72268803, 1277.72268803, 1277.72268803, 1277.76328127,\n",
       "       1277.72268803, 1277.72268803, 1279.4620752 , 1275.19478152,\n",
       "       1275.19478152, 1275.19478152, 1275.75588258, 1275.75588258,\n",
       "       1275.332782  , 1275.11749396, 1275.35179205, 1275.11149298,\n",
       "       1275.11749396, 1275.11749396, 1275.11749396, 1275.16029303,\n",
       "       1275.11999396, 1275.11749396, 1275.11749396, 1275.17718999,\n",
       "       1275.98008304, 1275.27218632, 1275.11749396, 1275.11749396,\n",
       "       1275.16029303, 1275.11149298, 1275.11749396, 1274.21368656,\n",
       "       1275.11749396, 1275.98008304, 1277.07547976, 1277.07547976,\n",
       "       1275.27218632, 1275.11999396, 1275.17718999, 1275.11749396,\n",
       "       1275.11749396, 1275.02268926, 1272.62548589, 1275.35179205,\n",
       "       1274.21368656, 1272.76348637, 1274.21368656, 1275.11149298,\n",
       "       1277.07547976, 1277.07547976, 1275.27218632, 1277.07547976,\n",
       "       1277.07547976, 1275.98008304, 1275.98008304, 1275.27218632,\n",
       "       1277.07547976, 1276.09238162, 1221.70439333, 1243.73499151,\n",
       "       1220.88929326, 1155.94119751, 1160.88980954, 1087.85178225,\n",
       "       1056.29319522, 1070.46568921, 1066.43259406, 1079.62499038,\n",
       "       1041.66347894, 1106.71637812, 1104.52557247, 1125.67607049,\n",
       "       1121.42970209, 1114.94009391, 1155.94808468, 1111.33380001,\n",
       "       1121.72019167, 1086.53748801, 1163.06610474, 1204.09189699,\n",
       "       1201.90130003, 1211.57959114, 1202.32669676, 1252.45348509,\n",
       "       1260.47050422, 1267.66058842, 1275.80278812, 1272.0582081 ,\n",
       "       1231.0808911 , 1262.87449468, 1274.47039801, 1266.61960211,\n",
       "       1277.3828968 , 1252.43877806, 1279.77857912, 1279.77857912,\n",
       "       1275.27218632, 1275.11749396, 1275.11999396, 1275.23229499,\n",
       "       1275.11749396, 1275.11749396, 1278.07519293, 1278.07519293,\n",
       "       1278.117992  , 1278.07519293, 1278.07769293, 1277.9254871 ,\n",
       "       1278.11369391, 1278.07769293, 1278.07519293, 1278.07519293,\n",
       "       1278.20238529, 1278.07769293, 1278.07769293, 1277.9254871 ,\n",
       "       1275.23229499, 1275.23229499, 1275.23229499, 1275.11749396,\n",
       "       1275.11149298, 1275.11749396, 1275.11749396, 1277.72268803,\n",
       "       1277.84988039, 1277.84988039, 1277.72268803, 1277.72518803,\n",
       "       1277.72268803, 1277.72268803, 1279.4620752 , 1277.72268803,\n",
       "       1277.72268803, 1277.71668705, 1277.76118901, 1279.4620752 ,\n",
       "       1277.7654871 , 1277.84988039, 1275.16029303, 1275.19658818,\n",
       "       1275.11749396, 1275.11749396, 1275.23229499, 1275.11749396,\n",
       "       1277.76328127, 1277.5729822 , 1277.72268803, 1277.72268803,\n",
       "       1277.72268803, 1277.72268803, 1277.72268803, 1277.76118901,\n",
       "       1275.19478152, 1277.72518803, 1277.72268803, 1277.76118901,\n",
       "       1277.72518803, 1276.89888185, 1277.72518803, 1279.4620752 ,\n",
       "       1275.98008304, 1275.27218632, 1275.27218632, 1275.27218632,\n",
       "       1275.11749396, 1277.72268803, 1277.72268803, 1277.72268803,\n",
       "       1277.72268803, 1277.72268803, 1277.72268803, 1277.84988039,\n",
       "       1277.72518803, 1277.72518803, 1277.72268803, 1277.72268803,\n",
       "       1277.84988039, 1279.4620752 , 1277.76328127, 1277.72268803,\n",
       "       1277.7654871 , 1275.00628911, 1277.07547976, 1277.07547976,\n",
       "       1277.07547976, 1277.07547976, 1275.16029303, 1277.72518803,\n",
       "       1277.72268803, 1277.72518803, 1277.72268803, 1277.72268803,\n",
       "       1277.84988039, 1279.4620752 , 1279.4620752 , 1277.72268803,\n",
       "       1277.72518803, 1277.72268803, 1277.72268803, 1277.72518803])"
      ]
     },
     "execution_count": 41,
     "metadata": {},
     "output_type": "execute_result"
    }
   ],
   "source": [
    "y_pred_rf = rg_rf.predict(X_valid)\n",
    "y_pred_rf"
   ]
  },
  {
   "cell_type": "code",
   "execution_count": 42,
   "metadata": {},
   "outputs": [
    {
     "data": {
      "text/plain": [
       "272"
      ]
     },
     "execution_count": 42,
     "metadata": {},
     "output_type": "execute_result"
    }
   ],
   "source": [
    "y_pred_rf.shape[0]"
   ]
  },
  {
   "cell_type": "code",
   "execution_count": 43,
   "metadata": {},
   "outputs": [
    {
     "name": "stdout",
     "output_type": "stream",
     "text": [
      "      Date        Open        High         Low       Close   Volume  \\\n",
      "0  9292015  597.280029  605.000000  590.219971  594.969971  2309500   \n",
      "1  9302015  603.280029  608.760010  600.729980  608.419983  2413400   \n",
      "2  1012015  608.369995  612.090027  599.849976  611.289978  1867600   \n",
      "3  1022015  607.200012  627.340027  603.130005  626.909973  2684800   \n",
      "4  1052015  632.000000  643.010010  627.000000  641.469971  1803600   \n",
      "\n",
      "   Prediction  \n",
      "0  650.280029  \n",
      "1  642.609985  \n",
      "2  651.789978  \n",
      "3  702.000000  \n",
      "4  712.780029  \n",
      "<class 'pandas.core.frame.DataFrame'>\n"
     ]
    }
   ],
   "source": [
    "#Create a variable to predict 'x' days out in future\n",
    "future_days=15\n",
    "#Create a new column(target) shifted 'x' units/day up\n",
    "stockdf['Prediction']=stockdf[['Close']].shift(-future_days)\n",
    "print(stockdf.head())\n",
    "print(type(stockdf))"
   ]
  },
  {
   "cell_type": "code",
   "execution_count": 44,
   "metadata": {},
   "outputs": [
    {
     "data": {
      "text/plain": [
       "array([[8.17202000e+06, 1.51467004e+03, 1.52560999e+03, 1.50796997e+03,\n",
       "        1.51797998e+03, 1.37830000e+06, 1.53239001e+03],\n",
       "       [8.18202000e+06, 1.52618005e+03, 1.56246997e+03, 1.52370996e+03,\n",
       "        1.55859998e+03, 2.02710000e+06, 1.55695996e+03],\n",
       "       [8.19202000e+06, 1.55331006e+03, 1.57368005e+03, 1.54394995e+03,\n",
       "        1.54753003e+03, 1.66060000e+06, 1.53202002e+03],\n",
       "       [8.20202000e+06, 1.54344995e+03, 1.58587000e+03, 1.53819995e+03,\n",
       "        1.58175000e+03, 1.70690000e+06, 1.52071997e+03],\n",
       "       [8.21202000e+06, 1.57703003e+03, 1.59771997e+03, 1.56800500e+03,\n",
       "        1.58042004e+03, 1.44650000e+06, 1.51928003e+03],\n",
       "       [8.24202000e+06, 1.59397998e+03, 1.61417004e+03, 1.58056995e+03,\n",
       "        1.58819995e+03, 1.40990000e+06, 1.54143994e+03],\n",
       "       [8.25202000e+06, 1.58206995e+03, 1.61162000e+03, 1.58206995e+03,\n",
       "        1.60821997e+03, 2.24710000e+06, 1.52090002e+03],\n",
       "       [8.26202000e+06, 1.60800000e+03, 1.65921997e+03, 1.60359998e+03,\n",
       "        1.65238000e+03, 3.99340000e+06, 1.49553003e+03],\n",
       "       [8.27202000e+06, 1.65368005e+03, 1.65500000e+03, 1.62575000e+03,\n",
       "        1.63432996e+03, 1.86160000e+06, 1.45998999e+03],\n",
       "       [8.28202000e+06, 1.63348999e+03, 1.64717004e+03, 1.63075000e+03,\n",
       "        1.64441003e+03, 1.49980000e+06, 1.43116003e+03],\n",
       "       [8.31202000e+06, 1.64789001e+03, 1.64796497e+03, 1.63031006e+03,\n",
       "        1.63418005e+03, 1.82340000e+06, 1.46545996e+03],\n",
       "       [9.12020000e+05, 1.63663000e+03, 1.66572998e+03, 1.63221997e+03,\n",
       "        1.66070996e+03, 1.82670000e+06, 1.41520996e+03],\n",
       "       [9.22020000e+05, 1.67377502e+03, 1.73318005e+03, 1.66632996e+03,\n",
       "        1.72828003e+03, 2.51120000e+06, 1.42829004e+03],\n",
       "       [9.32020000e+05, 1.70971399e+03, 1.70971399e+03, 1.61506006e+03,\n",
       "        1.64183997e+03, 3.10780000e+06, 1.44495996e+03],\n",
       "       [9.42020000e+05, 1.62426001e+03, 1.64510999e+03, 1.54761304e+03,\n",
       "        1.59104004e+03, 2.60860000e+06, 1.46452002e+03]])"
      ]
     },
     "execution_count": 44,
     "metadata": {},
     "output_type": "execute_result"
    }
   ],
   "source": [
    "# Get the last 'x' rows of feature dataset\n",
    "x_future=stockdf[:-future_days]\n",
    "x_future=x_future.tail(future_days)\n",
    "x_future=np.array(x_future)\n",
    "x_future"
   ]
  },
  {
   "cell_type": "code",
   "execution_count": 45,
   "metadata": {},
   "outputs": [],
   "source": [
    "## K-Nearest Neighbours"
   ]
  },
  {
   "cell_type": "code",
   "execution_count": null,
   "metadata": {},
   "outputs": [],
   "source": []
  },
  {
   "cell_type": "code",
   "execution_count": 46,
   "metadata": {},
   "outputs": [],
   "source": [
    "# Make a copy of the original sourcefile\n",
    "stock_KNN = stock_df.copy()"
   ]
  },
  {
   "cell_type": "code",
   "execution_count": 47,
   "metadata": {},
   "outputs": [],
   "source": [
    "#importing libraries\n",
    "from sklearn import neighbors\n",
    "from sklearn.model_selection import GridSearchCV\n",
    "from sklearn.preprocessing import MinMaxScaler\n",
    "scaler = MinMaxScaler(feature_range=(0, 1))"
   ]
  },
  {
   "cell_type": "code",
   "execution_count": 48,
   "metadata": {},
   "outputs": [],
   "source": [
    "#scaling data\n",
    "X_train_scaled = scaler.fit_transform(X_train)\n",
    "X_train = pd.DataFrame(X_train_scaled)\n",
    "X_valid_scaled = scaler.fit_transform(X_valid)\n",
    "X_valid = pd.DataFrame(X_valid_scaled)\n",
    "\n",
    "#using gridsearch to find the best parameter\n",
    "params = {'n_neighbors':[2,3,4,5,6,7,8,9]}\n",
    "knn = neighbors.KNeighborsRegressor()\n",
    "model = GridSearchCV(knn, params, cv=5)\n",
    "\n",
    "#fit the model and make predictions\n",
    "model.fit(X_train,y_train)\n",
    "preds = model.predict(X_valid)"
   ]
  },
  {
   "cell_type": "code",
   "execution_count": 49,
   "metadata": {},
   "outputs": [],
   "source": [
    "## Results-RMSE"
   ]
  },
  {
   "cell_type": "code",
   "execution_count": 50,
   "metadata": {},
   "outputs": [
    {
     "data": {
      "text/plain": [
       "438.2956054956993"
      ]
     },
     "execution_count": 50,
     "metadata": {},
     "output_type": "execute_result"
    }
   ],
   "source": [
    "#rmse\n",
    "rms=np.sqrt(np.mean(np.power((np.array(y_valid)-np.array(preds)),2)))\n",
    "rms"
   ]
  },
  {
   "cell_type": "code",
   "execution_count": 51,
   "metadata": {},
   "outputs": [
    {
     "data": {
      "text/plain": [
       "[<matplotlib.lines.Line2D at 0x1db54cccd08>]"
      ]
     },
     "execution_count": 51,
     "metadata": {},
     "output_type": "execute_result"
    },
    {
     "data": {
      "image/png": "[encoded data removed]",
      "text/plain": [
       "<Figure size 432x288 with 1 Axes>"
      ]
     },
     "metadata": {
      "needs_background": "light"
     },
     "output_type": "display_data"
    }
   ],
   "source": [
    "#plot\n",
    "valid['Predictions'] = 0\n",
    "valid['Predictions'] = preds\n",
    "plt.plot(valid[['Close', 'Predictions']])\n",
    "plt.plot(train['Close'])"
   ]
  },
  {
   "cell_type": "code",
   "execution_count": 52,
   "metadata": {},
   "outputs": [],
   "source": [
    "## drop in 2018-2019 and then rise"
   ]
  },
  {
   "cell_type": "code",
   "execution_count": null,
   "metadata": {},
   "outputs": [],
   "source": []
  },
  {
   "cell_type": "code",
   "execution_count": null,
   "metadata": {},
   "outputs": [],
   "source": []
  }
 ],
 "metadata": {
  "kernelspec": {
   "display_name": "Python 3",
   "language": "python",
   "name": "python3"
  },
  "language_info": {
   "codemirror_mode": {
    "name": "ipython",
    "version": 3
   },
   "file_extension": ".py",
   "mimetype": "text/x-python",
   "name": "python",
   "nbconvert_exporter": "python",
   "pygments_lexer": "ipython3",
   "version": "3.7.6"
  }
 },
 "nbformat": 4,
 "nbformat_minor": 4
}
